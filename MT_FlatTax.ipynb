{
 "cells": [
  {
   "attachments": {},
   "cell_type": "markdown",
   "metadata": {
    "id": "EIBsVBIXc7Q8"
   },
   "source": [
    "# Notebook for replicating the analyses in \"How does a Move to a Flat Tax Affect Montana Household Filers? The Case of Kansas\"\n",
    "### Richard W. Evans and Paul Johnston, April 2024\n",
    "This notebook replicates the analyses in the *Research in Focus* article by [Richard W. Evans](https://sites.google.com/site/rickecon) and Patrick Neyland entitled \"How does a Move to a Flat Tax Affect Household Filers? The Case of Kansas\".\n",
    "\n",
    "This Jupyter notebook is meant for execution on your local machine. You can use the corresponding [Google Colab notebook](https://colab.research.google.com/drive/1phIZ1oJNs-IjRv7Av7uAHIX3T6P6XVQX?usp=sharing) to execute the code for this paper in the cloud."
   ]
  },
  {
   "cell_type": "markdown",
   "metadata": {},
   "source": [
    "[Please use the `KS_FlatTax.ipynb` (https://github.com/TheCGO/KS-FlatTax/blob/main/KS_FlatTax.ipynb) as a template for the remaining analyses in this notebook.]"
   ]
  }
 ],
 "metadata": {
  "colab": {
   "provenance": []
  },
  "kernelspec": {
   "display_name": "ut-ratecut-dev",
   "language": "python",
   "name": "python3"
  },
  "language_info": {
   "codemirror_mode": {
    "name": "ipython",
    "version": 3
   },
   "file_extension": ".py",
   "mimetype": "text/x-python",
   "name": "python",
   "nbconvert_exporter": "python",
   "pygments_lexer": "ipython3",
   "version": "3.10.12"
  },
  "vscode": {
   "interpreter": {
    "hash": "5a060a3b0d993c8f429875fa9311b1a4bd4aebdf591d7d7f0b991dbed299c326"
   }
  }
 },
 "nbformat": 4,
 "nbformat_minor": 1
}
